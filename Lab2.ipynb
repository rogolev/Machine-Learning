{
 "cells": [
  {
   "cell_type": "markdown",
   "metadata": {},
   "source": [
    "#Введение"
   ]
  },
  {
   "cell_type": "markdown",
   "metadata": {},
   "source": [
    "Количество объектов: 4601  \n",
    "Объектов, помеченных как \"спам\": 1813  \n",
    "Часть обектов, помеченных как \"спам\" относительно всех объектов: 0,4\n",
    "\n",
    "Свойства объектов:  \n",
    "- 48 действительных свойств типа word_freq_WORD из промежутка [0, 100], обозначающих процент слов, совпадающих со словом WORD\n",
    "- 6 действительных свойств типа  char_freq_CHAR] из промежутка [0, 100], обозначающих процент символов в письме, совпадающих с символом CHAR\n",
    "- 1 действительное свойство, не меньшее единицы, типа capital_run_length_average, обозначающее среднюю длину всех непрерывных последовательностей заглавных букв в письме\n",
    "- 1 действительное свойство, не меньшее единицы, типа capital_run_length_longest, обозначающее длину самой длинной непрерывной последовательности заглавных букв в письме\n",
    "- 1 действительное свойство, не меньшее единицы типа capital_run_length_total, обозначающее сумму длин всех непрерывных последовательностей заглавных букв или общее число всех заглавных букв в письме\n",
    "- 1 свойство со значениями из множества {0,1} типа spam, обозначающее, было ли письмо обозначено как \"spam\" (1) или нет (0)."
   ]
  },
  {
   "cell_type": "code",
   "execution_count": 1,
   "metadata": {
    "collapsed": false
   },
   "outputs": [],
   "source": [
    "import pandas as pd\n",
    "import warnings\n",
    "warnings.filterwarnings('ignore')\n",
    "\n",
    "feature_names = [\n",
    "    line.strip().split(':')[0] \n",
    "    for line in open('spambase.names', 'r').readlines()[33:]\n",
    "    ] + ['spam']\n",
    "data = pd.read_csv('spambase.data', names=feature_names, header=None)"
   ]
  },
  {
   "cell_type": "markdown",
   "metadata": {},
   "source": [
    "# Дерево решений"
   ]
  },
  {
   "cell_type": "code",
   "execution_count": 2,
   "metadata": {
    "collapsed": false
   },
   "outputs": [
    {
     "name": "stdout",
     "output_type": "stream",
     "text": [
      "Accuracy:0.76875\n",
      "Precision:0.0\n",
      "Recall:0.0\n",
      "F1:0.0\n"
     ]
    }
   ],
   "source": [
    "from sklearn.tree import DecisionTreeClassifier\n",
    "from sklearn import metrics\n",
    "\n",
    "X, y = data.iloc[:, :-1], data.iloc[:, -1]\n",
    "barrier = 3000\n",
    "X_train, X_test = X[:barrier], X[barrier + 1:]\n",
    "y_train, y_test = y[:barrier], y[barrier + 1:]\n",
    "tree = DecisionTreeClassifier(max_depth = 7, criterion = 'gini')\n",
    "tree.fit(X_train, y_train)\n",
    "y_pred = tree.predict(X_test)\n",
    "\n",
    "def print_scoring(y_test, y_pred):\n",
    "    print 'Accuracy:' + str(metrics.accuracy_score(y_test, y_pred))\n",
    "    print 'Precision:' + str(metrics.precision_score(y_test, y_pred))\n",
    "    print 'Recall:' + str(metrics.recall_score(y_test, y_pred))\n",
    "    print 'F1:' + str(metrics.f1_score(y_test, y_pred))\n",
    "    \n",
    "print_scoring(y_test, y_pred)"
   ]
  },
  {
   "cell_type": "markdown",
   "metadata": {},
   "source": [
    "#Дерево решений с перемешиванием"
   ]
  },
  {
   "cell_type": "code",
   "execution_count": 3,
   "metadata": {
    "collapsed": false
   },
   "outputs": [
    {
     "name": "stdout",
     "output_type": "stream",
     "text": [
      "Accuracy:0.911381407472\n",
      "Precision:0.912408759124\n",
      "Recall:0.850340136054\n",
      "F1:0.880281690141\n"
     ]
    },
    {
     "data": {
      "image/png": "[encoded data removed]",
      "text/plain": [
       "<matplotlib.figure.Figure at 0x7fba07e86290>"
      ]
     },
     "metadata": {},
     "output_type": "display_data"
    },
    {
     "name": "stdout",
     "output_type": "stream",
     "text": [
      "51: char_freq_!\n",
      "6: word_freq_remove\n",
      "55: capital_run_length_longest\n",
      "52: char_freq_$\n",
      "15: word_freq_free\n",
      "24: word_freq_hp\n",
      "26: word_freq_george\n",
      "45: word_freq_edu\n",
      "16: word_freq_business\n",
      "4: word_freq_our\n"
     ]
    }
   ],
   "source": [
    "from sklearn.tree import DecisionTreeClassifier\n",
    "from sklearn.cross_validation import train_test_split\n",
    "from sklearn import metrics\n",
    "import numpy as np\n",
    "import matplotlib.pyplot as plt\n",
    "\n",
    "X, y = data.iloc[:, :-1], data.iloc[:, -1]\n",
    "barrier = 3000\n",
    "X_train, X_test, y_train, y_test = train_test_split(X, y, test_size=0.25, random_state=4)\n",
    "tree = DecisionTreeClassifier(max_depth = 7, criterion = 'gini').fit(X_train, y_train)\n",
    "y_pred_tree = tree.predict(X_test)\n",
    "\n",
    "print_scoring(y_test, y_pred_tree)\n",
    "\n",
    "importances = tree.feature_importances_\n",
    "indices = np.argsort(importances)[::-1]\n",
    "%matplotlib inline\n",
    "plt.figure()\n",
    "plt.title(\"Feature importances\")\n",
    "plt.bar(range(10), importances[indices[:10]], color=\"r\", align=\"center\")\n",
    "plt.xticks(range(10), indices)\n",
    "plt.xlim([-1, 10])\n",
    "plt.show()\n",
    "for i in indices[:10]: print \"%i: %s\" % (i, feature_names[i])"
   ]
  },
  {
   "cell_type": "markdown",
   "metadata": {},
   "source": [
    "#Константная модель"
   ]
  },
  {
   "cell_type": "code",
   "execution_count": 4,
   "metadata": {
    "collapsed": false
   },
   "outputs": [
    {
     "name": "stdout",
     "output_type": "stream",
     "text": [
      "DummyClassifier constant = 0\n",
      "Accuracy:0.616854908775\n",
      "Precision:0.0\n",
      "Recall:0.0\n",
      "F1:0.0\n",
      "\n",
      "DummyClassifier constant = 1\n",
      "Accuracy:0.383145091225\n",
      "Precision:0.383145091225\n",
      "Recall:1.0\n",
      "F1:0.554020100503\n"
     ]
    }
   ],
   "source": [
    "from sklearn.dummy import DummyClassifier\n",
    "dummy = DummyClassifier(strategy='constant', constant=0)\n",
    "dummy.fit(X_train, y_train)\n",
    "y_pred_dummy = dummy.predict(X_test)\n",
    "print 'DummyClassifier constant = 0'\n",
    "print_scoring(y_test, y_pred_dummy)\n",
    "print\n",
    "dummy = DummyClassifier(strategy='constant', constant=1)\n",
    "dummy.fit(X_train, y_train)\n",
    "y_pred_dummy = dummy.predict(X_test)\n",
    "print 'DummyClassifier constant = 1'\n",
    "print_scoring(y_test, y_pred_dummy)"
   ]
  },
  {
   "cell_type": "markdown",
   "metadata": {},
   "source": [
    "#KNN"
   ]
  },
  {
   "cell_type": "code",
   "execution_count": 5,
   "metadata": {
    "collapsed": false
   },
   "outputs": [
    {
     "name": "stdout",
     "output_type": "stream",
     "text": [
      "Accuracy:0.793223284101\n",
      "Precision:0.762273901809\n",
      "Recall:0.668934240363\n",
      "F1:0.712560386473\n"
     ]
    }
   ],
   "source": [
    "from sklearn.neighbors import KNeighborsClassifier\n",
    "knn = KNeighborsClassifier(n_neighbors=10).fit(X_train, y_train)\n",
    "y_pred_knn = knn.predict(X_test)\n",
    "print_scoring(y_test, y_pred_knn)"
   ]
  },
  {
   "cell_type": "markdown",
   "metadata": {},
   "source": [
    "#<font color='red'>Вывод по введению</font>"
   ]
  },
  {
   "cell_type": "markdown",
   "metadata": {},
   "source": [
    "* Недостаток обучения моделей по входным данным без их предварительного \"перемешивания\" заключается в сильной зависимости между порядком следования данных и качеством классификатора.\n",
    "* Признаки, указанные выше (под графиком \"Feature Importances\") оказались наиболее важными для определения спама.\n",
    "* Лучшее качество дает константная модель, всегда возвращающая 0, потому что \"полезных\" писем в обучающей выборке больше."
   ]
  },
  {
   "cell_type": "markdown",
   "metadata": {},
   "source": [
    "#KNN с нормализацией"
   ]
  },
  {
   "cell_type": "code",
   "execution_count": 6,
   "metadata": {
    "collapsed": false
   },
   "outputs": [
    {
     "name": "stdout",
     "output_type": "stream",
     "text": [
      "Accuracy:0.874891398784\n",
      "Precision:0.868486352357\n",
      "Recall:0.793650793651\n",
      "F1:0.829383886256\n"
     ]
    }
   ],
   "source": [
    "from sklearn.preprocessing import MinMaxScaler\n",
    "X_train_n = MinMaxScaler().fit_transform(X_train)\n",
    "X_test_n = MinMaxScaler().fit_transform(X_test)\n",
    "knn_n = KNeighborsClassifier(n_neighbors=10).fit(X_train_n, y_train)\n",
    "y_pred_knn_norm = knn_n.predict(X_test_n)\n",
    "print_scoring(y_test, y_pred_knn_norm)"
   ]
  },
  {
   "cell_type": "markdown",
   "metadata": {},
   "source": [
    "#Дерево решений с нормализацией"
   ]
  },
  {
   "cell_type": "code",
   "execution_count": 7,
   "metadata": {
    "collapsed": false
   },
   "outputs": [
    {
     "name": "stdout",
     "output_type": "stream",
     "text": [
      "Accuracy:0.894874022589\n",
      "Precision:0.877358490566\n",
      "Recall:0.843537414966\n",
      "F1:0.860115606936\n"
     ]
    }
   ],
   "source": [
    "tree_norm = DecisionTreeClassifier(max_depth = 7, criterion = 'gini').fit(X_train_n, y_train)\n",
    "y_pred = tree_norm.predict(X_test_n)\n",
    "print_scoring(y_test, y_pred)"
   ]
  },
  {
   "cell_type": "markdown",
   "metadata": {},
   "source": [
    "#<font color='red'>Вывод по нормализации</font>"
   ]
  },
  {
   "cell_type": "markdown",
   "metadata": {},
   "source": [
    "* Нормализация влияет положительно на KNN-классификатор из-за того, что при нормализации вклад всех атрибутов в меру разности двух объектов уравнивается. Не влияет же она на качество классификатора на деревьях решений потому что в этом классификаторе идет сравнение признаков отдельно друг от друга."
   ]
  },
  {
   "cell_type": "markdown",
   "metadata": {},
   "source": [
    "#ROC-кривые"
   ]
  },
  {
   "cell_type": "code",
   "execution_count": 8,
   "metadata": {
    "collapsed": false
   },
   "outputs": [
    {
     "data": {
      "image/png": "[encoded data removed]",
      "text/plain": [
       "<matplotlib.figure.Figure at 0x7fba078d0610>"
      ]
     },
     "metadata": {},
     "output_type": "display_data"
    },
    {
     "data": {
      "image/png": "[encoded data removed]",
      "text/plain": [
       "<matplotlib.figure.Figure at 0x7fba0786d750>"
      ]
     },
     "metadata": {},
     "output_type": "display_data"
    }
   ],
   "source": [
    "y_score_knn = knn.predict_proba(X_test)[:, 1]\n",
    "y_score_knn_n = knn_n.predict_proba(X_test_n)[:, 1]\n",
    "y_score_tree = tree.predict_proba(X_test)[:, 1]\n",
    "\n",
    "fpr_knn, tpr_knn, threshhold = metrics.roc_curve(y_test.tolist(), y_score_knn)\n",
    "fpr_knn_n, tpr_knn_n, threshhold = metrics.roc_curve(y_test.tolist(), y_score_knn_n)\n",
    "fpr_tree, tpr_tree, threshhold = metrics.roc_curve(y_test.tolist(), y_score_tree)\n",
    "\n",
    "precision_knn, recall_knn, threshhold = metrics.precision_recall_curve(y_test.tolist(), y_score_knn)\n",
    "precision_knn_n, recall_knn_n, threshhold = metrics.precision_recall_curve(y_test.tolist(), y_score_knn_n)\n",
    "precision_tree, recall_tree, threshhold = metrics.precision_recall_curve(y_test.tolist(), y_score_tree)\n",
    "\n",
    "plt.figure()\n",
    "plt.plot(fpr_knn, tpr_knn, label='KNN')\n",
    "plt.plot(fpr_knn_n, tpr_knn_n, label='KNN normalized')\n",
    "plt.plot(fpr_tree, tpr_tree, label='Decision tree')\n",
    "plt.plot()\n",
    "plt.plot([0, 1], [0, 1], 'k--')\n",
    "plt.xlim([0.0, 1.0])\n",
    "plt.ylim([0.0, 1.0])\n",
    "plt.xlabel('False Positive Rate')\n",
    "plt.ylabel('True Positive Rate')\n",
    "plt.title('Receiver operating characteristic')\n",
    "plt.legend(loc=\"lower right\")\n",
    "plt.show()\n",
    "\n",
    "plt.figure()\n",
    "plt.plot(recall_knn, precision_knn, label='KNN')\n",
    "plt.plot(recall_knn_n, precision_knn_n, label='KNN normalized')\n",
    "plt.plot(recall_tree, precision_tree, label='Decision tree')\n",
    "plt.plot()\n",
    "plt.plot([0, 1], [0.9, 0.9], 'k--')\n",
    "plt.xlim([0.0, 1.0])\n",
    "plt.ylim([0.0, 1.0])\n",
    "plt.xlabel('Recall')\n",
    "plt.ylabel('Precision')\n",
    "plt.title('Receiver operating characteristic')\n",
    "plt.legend(loc=\"lower right\")\n",
    "plt.show()"
   ]
  },
  {
   "cell_type": "code",
   "execution_count": 9,
   "metadata": {
    "collapsed": false
   },
   "outputs": [
    {
     "name": "stdout",
     "output_type": "stream",
     "text": [
      "There is a whole bunch (57) of predicates, so here's first five:\n",
      "\n",
      "char_freq_! <= 0.0785\n",
      "word_freq_remove <= 0.0450\n",
      "char_freq_$ <= 0.1660\n",
      "word_freq_free <= 0.1050\n",
      "word_freq_money <= 0.0200\n"
     ]
    }
   ],
   "source": [
    "from sklearn.tree import export_graphviz\n",
    "export_graphviz(tree, out_file='tree.dot', feature_names=feature_names)\n",
    "criteria = [line.split('\"')[1].split(\"\\\\\")[0] for line in open('tree.dot').readlines() if line.find(\"label\")!=-1 and line.find(\"<=\")!=-1]\n",
    "print \"There is a whole bunch (%i) of predicates, so here's first five:\" % len(criteria)\n",
    "print\n",
    "for line in criteria[:5]: print line"
   ]
  },
  {
   "cell_type": "markdown",
   "metadata": {},
   "source": [
    "#<font color='red'>Вывод по порогам классификации</font>"
   ]
  },
  {
   "cell_type": "markdown",
   "metadata": {},
   "source": [
    "* Классификатор, который (почти) всегда неверно метит объекты имеет AUC-ROC, близкий к нулю\n",
    "* При классификации объектов с использованием деревьев решений сравниваются свойства объекта с некоторыми пороговыми значениями в определенном порядке. Сами условия сравнения выше.\n",
    "* Из графика Precision-Recall выше видно, что при условии точности классификатора 90%, полнота определения спама не может быть больше ~85% для классификатора на основе деревьев решений и ~80% для классификатора на основе алгоритма KNN, работающего на нормированной выборке."
   ]
  },
  {
   "cell_type": "markdown",
   "metadata": {},
   "source": [
    "#Кросс-валидация"
   ]
  },
  {
   "cell_type": "code",
   "execution_count": 10,
   "metadata": {
    "collapsed": false
   },
   "outputs": [],
   "source": [
    "metrics_range = [\"euclidean\", \"manhattan\", \"chebyshev\", \"minkowski\"]\n",
    "k_values = range(1,20)\n",
    "weights_scheme = ['uniform', 'distance']\n",
    "scoring_criterion = 'roc_auc'\n",
    "param_dist_knn = dict(n_neighbors=k_values, weights=weights_scheme, metric=metrics_range)"
   ]
  },
  {
   "cell_type": "code",
   "execution_count": 11,
   "metadata": {
    "collapsed": false
   },
   "outputs": [],
   "source": [
    "from sklearn.grid_search import RandomizedSearchCV\n",
    "rand_knn = RandomizedSearchCV(knn_n, param_dist_knn, cv=10, scoring=scoring_criterion, n_iter=10, random_state=4, n_jobs=-1).fit(X_train_n, y_train)"
   ]
  },
  {
   "cell_type": "code",
   "execution_count": 12,
   "metadata": {
    "collapsed": false
   },
   "outputs": [],
   "source": [
    "criterions = ['gini', 'entropy']\n",
    "max_depth_range = range(8, 12)\n",
    "min_samples_leaf_range = range(11,14)\n",
    "max_features_range = range(20,25)\n",
    "param_dist_tree = dict(criterion=criterions, max_depth=max_depth_range, min_samples_leaf=min_samples_leaf_range, max_features=max_features_range)"
   ]
  },
  {
   "cell_type": "code",
   "execution_count": 13,
   "metadata": {
    "collapsed": false
   },
   "outputs": [],
   "source": [
    "from sklearn.grid_search import GridSearchCV\n",
    "grid_tree = GridSearchCV(tree, param_dist_tree, cv=10, scoring=scoring_criterion, n_jobs=-1).fit(X_train, y_train)"
   ]
  },
  {
   "cell_type": "code",
   "execution_count": 14,
   "metadata": {
    "collapsed": false
   },
   "outputs": [],
   "source": [
    "bp_knn = rand_knn.best_params_\n",
    "bp_tree = grid_tree.best_params_"
   ]
  },
  {
   "cell_type": "code",
   "execution_count": 15,
   "metadata": {
    "collapsed": false
   },
   "outputs": [
    {
     "name": "stdout",
     "output_type": "stream",
     "text": [
      "Tree results:\n",
      "ROC-AUC score: 0.938867\n",
      "\n",
      "KNN results:\n",
      "ROC-AUC score: 0.917860\n",
      "\n",
      "Best decision tree results:\n",
      "ROC-AUC score: 0.959305\n",
      "\n",
      "Best KNN results:\n",
      "ROC-AUC score: 0.943183\n"
     ]
    }
   ],
   "source": [
    "best_tree = best_tree = DecisionTreeClassifier(criterion=bp_tree['criterion'], max_depth=bp_tree['max_depth'], max_features=bp_tree['max_features'], min_samples_leaf=bp_tree['min_samples_leaf']).fit(X_train, y_train)\n",
    "y_score_best_tree = best_tree.predict_proba(X_test)[:, 1]\n",
    "best_knn = KNeighborsClassifier(metric=bp_knn['metric'], n_neighbors=bp_knn['n_neighbors'], weights=bp_knn['weights']).fit(X_train_n, y_train)\n",
    "y_score_best_knn_n = best_knn.predict_proba(X_test_n)[:, 1]\n",
    "\n",
    "print \"Tree results:\"\n",
    "print \"ROC-AUC score: %f\" % metrics.roc_auc_score(y_test, y_score_knn_n)\n",
    "print\n",
    "print \"KNN results:\"\n",
    "print \"ROC-AUC score: %f\" % metrics.roc_auc_score(y_test, y_score_tree)\n",
    "print\n",
    "print \"Best decision tree results:\"\n",
    "print \"ROC-AUC score: %f\" % metrics.roc_auc_score(y_test, y_score_best_tree)\n",
    "print\n",
    "print \"Best KNN results:\"\n",
    "print \"ROC-AUC score: %f\" % metrics.roc_auc_score(y_test, y_score_best_knn_n)"
   ]
  }
 ],
 "metadata": {
  "kernelspec": {
   "display_name": "Python 2",
   "language": "python",
   "name": "python2"
  },
  "language_info": {
   "codemirror_mode": {
    "name": "ipython",
    "version": 2
   },
   "file_extension": ".py",
   "mimetype": "text/x-python",
   "name": "python",
   "nbconvert_exporter": "python",
   "pygments_lexer": "ipython2",
   "version": "2.7.10"
  }
 },
 "nbformat": 4,
 "nbformat_minor": 0
}
